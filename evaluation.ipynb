{
 "cells": [
  {
   "cell_type": "code",
   "execution_count": 1,
   "id": "initial_id",
   "metadata": {
    "collapsed": true,
    "ExecuteTime": {
     "end_time": "2023-12-16T02:23:13.590242Z",
     "start_time": "2023-12-16T02:22:25.352076Z"
    }
   },
   "outputs": [
    {
     "name": "stdout",
     "output_type": "stream",
     "text": [
      "Number of keys in Model 1: 2606800\n",
      "Number of keys in Model 2: 2838402\n",
      "Number of matching keys: 2606800\n",
      "Model 1 (Mediapipe) - Min Torso Diameter: 10.0, Max Torso Diameter: 69.26037828369117, Avg Torso Diameter: 40.900559750771365\n",
      "Model 2 (Movenet) - Min Torso Diameter: 10.0, Max Torso Diameter: 69.26037828369117, Avg Torso Diameter: 40.111385446011134\n",
      "Mediapipe PDJ: 80.89%\n",
      "Movenet PDJ: 70.63%\n",
      "Mediapipe PDJ for matching entries: 80.89%\n",
      "Movenet PDJ for matching entries: 75.98%\n"
     ]
    }
   ],
   "source": [
    "def parse_file(file_path):\n",
    "    data = {}\n",
    "    torso_diameters = []\n",
    "\n",
    "    with open(file_path, 'r') as file:\n",
    "        lines = file.readlines()\n",
    "\n",
    "    for line in lines:\n",
    "        try:\n",
    "            parts = [part.strip() for part in line.strip().split(',')]\n",
    "            video = parts[0].split(': ')[1]\n",
    "            frame = parts[1].split(': ')[1]\n",
    "            keypoint = parts[2].split(' ')[1]\n",
    "            euclidean_distance = float(parts[3].split(' = ')[1])\n",
    "            torso_diameter = float(parts[4].split(' = ')[1])\n",
    "            \n",
    "          \n",
    "            torso_diameters.append(torso_diameter)\n",
    "\n",
    "            key = f\"{video},{frame},{keypoint}\"\n",
    "            data[key] = (euclidean_distance, torso_diameter)\n",
    "\n",
    "        except IndexError:\n",
    "            print(f\"Error parsing line: {line}\")\n",
    "            continue\n",
    "\n",
    "    min_diameter = min(torso_diameters)\n",
    "    max_diameter = max(torso_diameters)\n",
    "    avg_diameter = sum(torso_diameters) / len(torso_diameters)\n",
    "\n",
    "    return data, min_diameter, max_diameter, avg_diameter\n",
    "\n",
    "\n",
    "\n",
    "def calculate_pdj(data):\n",
    "    total_joints = len(data)\n",
    "    correct_joints = sum(1 for value in data.values() if value[0] <= 0.2 * value[1])\n",
    "    pdj = (correct_joints / total_joints) * 100 if total_joints > 0 else 0.0\n",
    "    return pdj\n",
    "\n",
    "\n",
    "file_path_model1 = 'mediapipe_keypoint_distances.txt'\n",
    "file_path_model2 = 'movenet_keypoint_distances.txt'\n",
    "\n",
    "\n",
    "data_model1, min_dia1, max_dia1, avg_dia1 = parse_file(file_path_model1)\n",
    "data_model2, min_dia2, max_dia2, avg_dia2 = parse_file(file_path_model2)\n",
    "\n",
    "\n",
    "\n",
    "\n",
    "matching_keys = set(data_model1.keys()) & set(data_model2.keys())\n",
    "\n",
    "print(f\"Number of keys in Model 1: {len(data_model1)}\")\n",
    "print(f\"Number of keys in Model 2: {len(data_model2)}\")\n",
    "print(f\"Number of matching keys: {len(matching_keys)}\")\n",
    "\n",
    "matching_data_model1 = {key: data_model1[key] for key in matching_keys}\n",
    "matching_data_model2 = {key: data_model2[key] for key in matching_keys}\n",
    "\n",
    "\n",
    "pdj_model1 = calculate_pdj(data_model1)\n",
    "pdj_model2 = calculate_pdj(data_model2)\n",
    "\n",
    "\n",
    "pdj_model1_m = calculate_pdj(matching_data_model1)\n",
    "pdj_model2_m = calculate_pdj(matching_data_model2)\n",
    "\n",
    "print(f\"Model 1 (Mediapipe) - Min Torso Diameter: {min_dia1}, Max Torso Diameter: {max_dia1}, Avg Torso Diameter: {avg_dia1}\")\n",
    "print(f\"Model 2 (Movenet) - Min Torso Diameter: {min_dia2}, Max Torso Diameter: {max_dia2}, Avg Torso Diameter: {avg_dia2}\")\n",
    "\n",
    "\n",
    "print(f'Mediapipe PDJ: {pdj_model1:.2f}%')\n",
    "print(f'Movenet PDJ: {pdj_model2:.2f}%')\n",
    "\n",
    "print(f'Mediapipe PDJ for matching entries: {pdj_model1_m:.2f}%')\n",
    "print(f'Movenet PDJ for matching entries: {pdj_model2_m:.2f}%')\n",
    "\n"
   ]
  },
  {
   "cell_type": "code",
   "execution_count": 67,
   "outputs": [],
   "source": [],
   "metadata": {
    "collapsed": false,
    "ExecuteTime": {
     "end_time": "2023-10-14T21:10:55.432266Z",
     "start_time": "2023-10-14T21:10:55.421013Z"
    }
   },
   "id": "be3dbf0bdb961b6b"
  },
  {
   "cell_type": "code",
   "execution_count": 67,
   "outputs": [],
   "source": [],
   "metadata": {
    "collapsed": false,
    "ExecuteTime": {
     "end_time": "2023-10-14T21:10:55.439857Z",
     "start_time": "2023-10-14T21:10:55.428863Z"
    }
   },
   "id": "29a513d280b440ca"
  }
 ],
 "metadata": {
  "kernelspec": {
   "display_name": "Python 3",
   "language": "python",
   "name": "python3"
  },
  "language_info": {
   "codemirror_mode": {
    "name": "ipython",
    "version": 2
   },
   "file_extension": ".py",
   "mimetype": "text/x-python",
   "name": "python",
   "nbconvert_exporter": "python",
   "pygments_lexer": "ipython2",
   "version": "2.7.6"
  }
 },
 "nbformat": 4,
 "nbformat_minor": 5
}
